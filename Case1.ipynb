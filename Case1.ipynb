{
  "nbformat": 4,
  "nbformat_minor": 0,
  "metadata": {
    "colab": {
      "provenance": [],
      "authorship_tag": "ABX9TyNKnW0Vi3klEiChzHSDGzX3",
      "include_colab_link": true
    },
    "kernelspec": {
      "name": "python3",
      "display_name": "Python 3"
    },
    "language_info": {
      "name": "python"
    }
  },
  "cells": [
    {
      "cell_type": "markdown",
      "metadata": {
        "id": "view-in-github",
        "colab_type": "text"
      },
      "source": [
        "<a href=\"https://colab.research.google.com/github/tazeenida/Ethical-AI/blob/feature_collabe_hw2/Case1.ipynb\" target=\"_parent\"><img src=\"https://colab.research.google.com/assets/colab-badge.svg\" alt=\"Open In Colab\"/></a>"
      ]
    },
    {
      "cell_type": "code",
      "execution_count": 3,
      "metadata": {
        "colab": {
          "base_uri": "https://localhost:8080/"
        },
        "id": "Qjlv7uUx3I3l",
        "outputId": "abb77c93-9e92-44f1-c627-8eb7f81cc6d5"
      },
      "outputs": [
        {
          "output_type": "stream",
          "name": "stdout",
          "text": [
            "New Test Score: 0.475\n"
          ]
        }
      ],
      "source": [
        "import pickle\n",
        "\n",
        "import pandas as pd\n",
        "\n",
        "from sklearn.linear_model import LogisticRegression\n",
        "\n",
        "from sklearn import preprocessing\n",
        "\n",
        "\n",
        "\n",
        "with open('/content/BEST_LR_MODEL_EVER.pkl', 'rb') as f:\n",
        "\n",
        "  clf = pickle.load(f)\n",
        "\n",
        "df = pd.read_csv('/content/test_bias_new.csv')\n",
        "\n",
        "X = df.loc[:, df.columns != 'approved']\n",
        "\n",
        "Y = df['approved']\n",
        "\n",
        "norm_X = preprocessing.normalize(X, axis=0)\n",
        "\n",
        "\n",
        "print(\"New Test Score:\", clf.score(norm_X, Y))\n"
      ]
    }
  ]
}